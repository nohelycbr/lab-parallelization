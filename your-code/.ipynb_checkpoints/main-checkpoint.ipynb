{
 "cells": [
  {
   "cell_type": "markdown",
   "metadata": {},
   "source": [
    "# Parallelization Lab\n",
    "\n",
    "In this lab, you will be leveraging several concepts you have learned to obtain a list of links from a web page and crawl and index the pages referenced by those links - both sequentially and in parallel. Follow the steps below to complete the lab."
   ]
  },
  {
   "cell_type": "markdown",
   "metadata": {},
   "source": [
    "## Step 1: Use the requests library to retrieve the content from the URL below."
   ]
  },
  {
   "cell_type": "code",
   "execution_count": 1,
   "metadata": {},
   "outputs": [],
   "source": [
    "import requests\n",
    "\n",
    "url = 'https://en.wikipedia.org/wiki/Data_science'"
   ]
  },
  {
   "cell_type": "code",
   "execution_count": 2,
   "metadata": {},
   "outputs": [],
   "source": [
    "html = requests.get(url).content"
   ]
  },
  {
   "cell_type": "markdown",
   "metadata": {},
   "source": [
    "## Step 2: Use BeautifulSoup to extract a list of all the unique links on the page."
   ]
  },
  {
   "cell_type": "code",
   "execution_count": 4,
   "metadata": {},
   "outputs": [],
   "source": [
    "from bs4 import BeautifulSoup"
   ]
  },
  {
   "cell_type": "code",
   "execution_count": 5,
   "metadata": {
    "scrolled": true
   },
   "outputs": [
    {
     "name": "stdout",
     "output_type": "stream",
     "text": [
      "[None, '#mw-head', '#p-search', '/wiki/Information_science', '/wiki/Machine_learning', '/wiki/Data_mining', '/wiki/File:Kernel_Machine.svg', '/wiki/Statistical_classification', '/wiki/Cluster_analysis', '/wiki/Regression_analysis', '/wiki/Anomaly_detection', '/wiki/Automated_machine_learning', '/wiki/Association_rule_learning', '/wiki/Reinforcement_learning', '/wiki/Structured_prediction', '/wiki/Feature_engineering', '/wiki/Feature_learning', '/wiki/Online_machine_learning', '/wiki/Semi-supervised_learning', '/wiki/Unsupervised_learning', '/wiki/Learning_to_rank', '/wiki/Grammar_induction', '/wiki/Supervised_learning', '/wiki/Statistical_classification', '/wiki/Regression_analysis', '/wiki/Decision_tree_learning', '/wiki/Ensemble_learning', '/wiki/Bootstrap_aggregating', '/wiki/Boosting_(machine_learning)', '/wiki/Random_forest', '/wiki/K-nearest_neighbors_algorithm', '/wiki/Linear_regression', '/wiki/Naive_Bayes_classifier', '/wiki/Artificial_neural_network', '/wiki/Logistic_regression', '/wiki/Perceptron', '/wiki/Relevance_vector_machine', '/wiki/Support-vector_machine', '/wiki/Cluster_analysis', '/wiki/BIRCH', '/wiki/CURE_data_clustering_algorithm', '/wiki/Hierarchical_clustering', '/wiki/K-means_clustering', '/wiki/Expectation%E2%80%93maximization_algorithm', '/wiki/DBSCAN', '/wiki/OPTICS_algorithm', '/wiki/Mean-shift', '/wiki/Dimensionality_reduction', '/wiki/Factor_analysis', '/wiki/Canonical_correlation_analysis', '/wiki/Independent_component_analysis', '/wiki/Linear_discriminant_analysis', '/wiki/Non-negative_matrix_factorization', '/wiki/Principal_component_analysis', '/wiki/T-distributed_stochastic_neighbor_embedding', '/wiki/Structured_prediction', '/wiki/Graphical_model', '/wiki/Bayesian_network', '/wiki/Conditional_random_field', '/wiki/Hidden_Markov_model', '/wiki/Anomaly_detection', '/wiki/K-nearest_neighbors_classification', '/wiki/Local_outlier_factor', '/wiki/Artificial_neural_networks', '/wiki/Autoencoder', '/wiki/Deep_learning', '/wiki/DeepDream', '/wiki/Multilayer_perceptron', '/wiki/Recurrent_neural_network', '/wiki/Long_short-term_memory', '/wiki/Gated_recurrent_unit', '/wiki/Restricted_Boltzmann_machine', '/wiki/Generative_adversarial_network', '/wiki/Self-organizing_map', '/wiki/Convolutional_neural_network', '/wiki/U-Net', '/wiki/Reinforcement_learning', '/wiki/Q-learning', '/wiki/State%E2%80%93action%E2%80%93reward%E2%80%93state%E2%80%93action', '/wiki/Temporal_difference_learning', '/wiki/Bias%E2%80%93variance_dilemma', '/wiki/Computational_learning_theory', '/wiki/Empirical_risk_minimization', '/wiki/Occam_learning', '/wiki/Probably_approximately_correct_learning', '/wiki/Statistical_learning_theory', '/wiki/Vapnik%E2%80%93Chervonenkis_theory', '/wiki/Conference_on_Neural_Information_Processing_Systems', '/wiki/International_Conference_on_Machine_Learning', '/wiki/Machine_Learning_(journal)', '/wiki/Journal_of_Machine_Learning_Research', 'https://arxiv.org/list/cs.LG/recent', '/wiki/Glossary_of_artificial_intelligence', '/wiki/Glossary_of_artificial_intelligence', '/wiki/List_of_datasets_for_machine-learning_research', '/wiki/Outline_of_machine_learning', '/wiki/Template:Machine_learning_bar', '/wiki/Template_talk:Machine_learning_bar', 'https://en.wikipedia.org/w/index.php?title=Template:Machine_learning_bar&action=edit', '/wiki/Multi-disciplinary', '/wiki/Knowledge', '/wiki/Data', '#cite_note-:0-1', '#cite_note-2', '/wiki/Data_mining', '/wiki/Big_data', '#cite_note-:3-3', '/wiki/Statistics', '/wiki/Data_analysis', '/wiki/Machine_learning', '#cite_note-Hayashi-4', '/wiki/Mathematics', '/wiki/Statistics', '/wiki/Computer_science', '/wiki/Information_science', '/wiki/Turing_award', '/wiki/Jim_Gray_(computer_scientist)', '/wiki/Empirical_research', '/wiki/Basic_research', '/wiki/Computational_science', '/wiki/Information_explosion', '#cite_note-TansleyTolle2009-5', '#cite_note-BellHey2009-6', '/wiki/American_Statistical_Association', '/wiki/Database', '/wiki/Machine_learning', '/wiki/Distributed_computing', '#cite_note-7', '/wiki/Harvard_Business_Review', '#cite_note-Harvard-8', '/wiki/Buzzword', '/wiki/Business_analytics', '#cite_note-GilPress-9', '/wiki/Business_intelligence', '/wiki/Predictive_modelling', '/wiki/Statistics', '#cite_note-Dinov_DSPA_2018-10', '/wiki/Hans_Rosling', 'https://www.bbc.co.uk/programmes/b00wgq0l', '#cite_note-11', '/wiki/Nate_Silver', '#cite_note-NateSilver-12', '#cite_note-13', '#cite_note-GilPress-9', '/wiki/Big_data', '#cite_note-14', '#cite_note-15', '#cite_note-16', '#cite_note-17', '/w/index.php?title=Data_science&action=edit&section=1', '/wiki/Computer_science', '/wiki/Peter_Naur', '/wiki/Datalogy', '#cite_note-18', '/wiki/Montpellier_2_University', '#cite_note-Escoufier-19', '#cite_note-20', '#cite_note-Hayashi-4', '/wiki/C.F._Jeff_Wu', '#cite_note-cfjwutk-21', '/wiki/University_of_Michigan', '#cite_note-cfjwu01-22', '#cite_note-cfjwutk-21', '#cite_note-cfjwu02-23', '/wiki/Prasanta_Chandra_Mahalanobis', '/wiki/Indian_Statistical_Institute', '#cite_note-cleveland01-24', '#cite_note-ics12-25', '#cite_note-dsj12-26', '#cite_note-dsj02-27', '#cite_note-jds03-28', '#cite_note-29', '/wiki/Wikipedia:Citation_needed', '/wiki/Jim_Gray_(computer_scientist)', '#cite_note-TansleyTolle2009-5', '#cite_note-BellHey2009-6', '#cite_note-30', '/wiki/Harvard_Business_Review', '#cite_note-Harvard-8', '/wiki/DJ_Patil', '/wiki/Jeff_Hammerbacher', '#cite_note-31', 'http://euads.org', '#cite_note-32', '/wiki/General_Assembly_(school)', '/wiki/The_Data_Incubator', '#cite_note-33', '/wiki/American_Statistical_Association', '#cite_note-ASA-34', '#cite_note-35', 'http://www.gfkl.org/welcome/', '/wiki/University_of_Essex', '/w/index.php?title=Data_science&action=edit&section=2', '#cite_note-36', '/wiki/Statistics', '#cite_note-:3-3', '/wiki/Forbes', '/wiki/Buzzword', '/wiki/Business_analytics', '#cite_note-GilPress-9', '/wiki/American_Statistical_Association', '/wiki/Nate_Silver', '#cite_note-NateSilver-12', '#cite_note-37', '/wiki/Software_Developer', '/wiki/Software_engineer', '#cite_note-38', '/wiki/The_Wall_Street_Journal', '/wiki/Computer_science', '/wiki/Interdisciplinarity', '/wiki/Methodology', '/wiki/Academy', '/wiki/Industry', '/wiki/Discipline_(academia)', '#cite_note-:1-39', '/wiki/New_York_University', '/wiki/NYU_Stern_Center_for_Business_and_Human_Rights', '#cite_note-:1-39', '/wiki/Discipline_(academia)', '/wiki/Data_set', '/wiki/Pattern_recognition', '/wiki/Predictive_modelling', '#cite_note-:0-1', '/wiki/Analytics', '/wiki/Applied_science', '/wiki/Theory', '/wiki/Health_science', '/wiki/Social_science', '#cite_note-:0-1', '/wiki/David_Donoho', '#cite_note-:2-40', '/wiki/Big_data', '#cite_note-:2-40', '/wiki/Computing', '#cite_note-:2-40', '/wiki/Graduate_school', '/wiki/Graduate_school', '#cite_note-:2-40', '#cite_note-41', '/wiki/Statistician', '/wiki/David_Donoho', '#cite_note-:2-40', '#cite_note-42', '/wiki/Predictive_modelling', '/wiki/Explanatory_model', '#cite_note-cleveland01-24', '/wiki/Statistician', '/wiki/Statistics', '/wiki/Open_science', '/wiki/Academic_publishing', '#cite_note-:2-40', '/wiki/National_Institutes_of_Health', '#cite_note-43', '/wiki/Academic_journal', '#cite_note-44', '#cite_note-45', '/wiki/Statistical_theory', '/wiki/Paradigm', '#cite_note-:2-40', '#cite_note-:2-40', '/w/index.php?title=Data_science&action=edit&section=3', '#cite_ref-:0_1-0', '#cite_ref-:0_1-1', '#cite_ref-:0_1-2', 'http://cacm.acm.org/magazines/2013/12/169933-data-science-and-prediction/fulltext', '/wiki/Digital_object_identifier', '//doi.org/10.1145%2F2500499', '#cite_ref-2', '/wiki/Jeffrey_T._Leek', 'http://simplystatistics.org/2013/12/12/the-key-word-in-data-science-is-not-data-it-is-science/', '#cite_ref-:3_3-0', '#cite_ref-:3_3-1', '/wiki/Jure_Leskovec', '/wiki/Anand_Rajaraman', '/wiki/Jeffrey_David_Ullman', 'http://i.stanford.edu/~ullman/mmds/ch1n.pdf', '#cite_ref-Hayashi_4-0', '#cite_ref-Hayashi_4-1', 'https://www.springer.com/book/9784431702085', '/wiki/Digital_object_identifier', '//doi.org/10.1007%2F978-4-431-65950-1_3', '/wiki/International_Standard_Book_Number', '/wiki/Special:BookSources/9784431702085', '#cite_ref-TansleyTolle2009_5-0', '#cite_ref-TansleyTolle2009_5-1', 'https://books.google.com/books?id=oGs_AQAAIAAJ', '/wiki/International_Standard_Book_Number', '/wiki/Special:BookSources/978-0-9825442-0-4', '#cite_ref-BellHey2009_6-0', '#cite_ref-BellHey2009_6-1', '/wiki/Digital_object_identifier', '//doi.org/10.1126%2Fscience.1170411', '/wiki/International_Standard_Serial_Number', '//www.worldcat.org/issn/0036-8075', '/wiki/PubMed_Identifier', '//www.ncbi.nlm.nih.gov/pubmed/19265007', '#cite_ref-7', 'https://magazine.amstat.org/blog/2015/10/01/asa-statement-on-the-role-of-statistics-in-data-science/', '/wiki/American_Statistical_Association', '#cite_ref-Harvard_8-0', '#cite_ref-Harvard_8-1', '/wiki/Thomas_H._Davenport', '/wiki/DJ_Patil', 'https://hbr.org/2012/10/data-scientist-the-sexiest-job-of-the-21st-century/', '/wiki/Harvard_Business_Review', '#cite_ref-GilPress_9-0', '#cite_ref-GilPress_9-1', '#cite_ref-GilPress_9-2', 'https://www.forbes.com/sites/gilpress/2013/08/19/data-science-whats-the-half-life-of-a-buzzword/', '/wiki/Forbes', '#cite_ref-Dinov_DSPA_2018_10-0', '/wiki/International_Standard_Book_Number', '/wiki/Special:BookSources/978-3-319-72346-4', '#cite_ref-11', 'https://www.nytimes.com/2011/04/03/business/03stream.html', '#cite_ref-NateSilver_12-0', '#cite_ref-NateSilver_12-1', 'http://www.statisticsviews.com/details/feature/5133141/Nate-Silver-What-I-need-from-statisticians.html', '#cite_ref-13', 'http://radar.oreilly.com/2011/05/data-science-terminology.html', '#cite_ref-14', 'https://hbr.org/2018/01/are-you-setting-your-data-scientists-up-to-fail', '#cite_ref-15', 'https://www.consultancy.uk/news/16839/70-of-big-data-projects-in-uk-fail-to-realise-full-potential', '#cite_ref-16', 'http://analytics-magazine.org/the-data-economy-why-do-so-many-analytics-projects-fail/', '#cite_ref-17', 'https://www.kdnuggets.com/2018/05/data-science-4-reasons-failing-deliver.html', '#cite_ref-18', '/wiki/Digital_object_identifier', '//doi.org/10.1145%2F365719.366510', '#cite_ref-Escoufier_19-0', '/wiki/International_Standard_Book_Number', '/wiki/Special:BookSources/0-12-241770-4', '/wiki/Category:CS1_maint:_extra_text:_authors_list', '#cite_ref-20', 'https://www.forbes.com/sites/gilpress/2013/05/28/a-very-short-history-of-data-science/', '#cite_ref-cfjwutk_21-0', '#cite_ref-cfjwutk_21-1', 'http://www2.isye.gatech.edu/~jeffwu/presentations/datascience.pdf', '#cite_ref-cfjwu01_22-0', 'http://ur.umich.edu/9899/Nov09_98/4.htm', '#cite_ref-cfjwu02_23-0', 'https://web.archive.org/web/20131029191813/http://www.isical.ac.in/~statmath/html/pcm/pcm_recent.html', 'http://www.isical.ac.in/~statmath/html/pcm/pcm_recent.html', '#cite_ref-cleveland01_24-0', '#cite_ref-cleveland01_24-1', 'https://pdfs.semanticscholar.org/915c/d8e2b39eb02723553913d592b2237d4d9960.pdf', '#cite_ref-ics12_25-0', 'http://www.codata.org/', '#cite_ref-dsj12_26-0', 'http://www.jstage.jst.go.jp/browse/dsj/_vols', 'https://web.archive.org/web/20120403153707/http://www.jstage.jst.go.jp/browse/dsj/_vols', '/wiki/Wayback_Machine', '#cite_ref-dsj02_27-0', 'http://www.jstage.jst.go.jp/browse/dsj/1/0/_contents', '#cite_ref-jds03_28-0', 'http://www.jds-online.com/v1-1', '#cite_ref-29', 'http://www.nsf.gov/pubs/2005/nsb0540/', '#cite_ref-30', 'https://www.nytimes.com/2009/12/15/science/15books.html', '/wiki/International_Standard_Serial_Number', '//www.worldcat.org/issn/0362-4331', '#cite_ref-31', 'http://www.dsaa.co', '#cite_ref-32', 'https://web.archive.org/web/20170329172857/http://datamining.it.uts.edu.au/conferences/dsaa14/', 'http://datamining.it.uts.edu.au/conferences/dsaa14/', '#cite_ref-33', 'https://venturebeat.com/2014/04/15/ny-gets-new-bootcamp-for-data-scientists-its-free-but-harder-to-get-into-than-harvard/', '#cite_ref-ASA_34-0', 'https://web.archive.org/web/20170205101231/http://magazine.amstat.org/blog/2016/06/01/datascience-2/', '/wiki/American_Statistical_Association', 'http://magazine.amstat.org/blog/2016/06/01/datascience-2/', '#cite_ref-35', 'https://www.springer.com/41060', '#cite_ref-36', 'http://fortune.com/2015/05/21/data-science-white-hot/', '#cite_ref-37', '/wiki/Digital_object_identifier', '//doi.org/10.7146%2Fjod.9823', '/wiki/International_Standard_Serial_Number', '//www.worldcat.org/issn/2245-408X', '#cite_ref-38', '/wiki/Digital_object_identifier', '//doi.org/10.1016%2Fj.ipm.2017.05.004', '#cite_ref-:1_39-0', '#cite_ref-:1_39-1', 'https://blogs.wsj.com/cio/2014/05/02/why-do-we-need-data-science-when-weve-had-statistics-for-centuries/', '#cite_ref-:2_40-0', '#cite_ref-:2_40-1', '#cite_ref-:2_40-2', '#cite_ref-:2_40-3', '#cite_ref-:2_40-4', '#cite_ref-:2_40-5', '#cite_ref-:2_40-6', '#cite_ref-:2_40-7', 'http://courses.csail.mit.edu/18.337/2015/docs/50YearsDataScience.pdf', '#cite_ref-41', 'https://books.google.com/books?id=zdBXAQAAQBAJ&printsec=frontcover#v=onepage&q=%22data%20science%22&f=false', '#cite_ref-42', '/wiki/Digital_object_identifier', '//doi.org/10.1007%2FBF00141776', '/wiki/International_Standard_Serial_Number', '//www.worldcat.org/issn/0960-3174', '#cite_ref-43', '//www.ncbi.nlm.nih.gov/pmc/articles/PMC4058759', '/wiki/Digital_object_identifier', '//doi.org/10.1038%2F505612a', '/wiki/International_Standard_Serial_Number', '//www.worldcat.org/issn/0028-0836', '/wiki/PubMed_Central', '//www.ncbi.nlm.nih.gov/pmc/articles/PMC4058759', '/wiki/PubMed_Identifier', '//www.ncbi.nlm.nih.gov/pubmed/24482835', '#cite_ref-44', '/wiki/Digital_object_identifier', '//doi.org/10.1126%2Fscience.1250475', '/wiki/International_Standard_Serial_Number', '//www.worldcat.org/issn/0036-8075', '/wiki/PubMed_Identifier', '//www.ncbi.nlm.nih.gov/pubmed/24436391', '#cite_ref-45', '/wiki/Digital_object_identifier', '//doi.org/10.1093%2Fbiostatistics%2Fkxp014', '/wiki/International_Standard_Serial_Number', '//www.worldcat.org/issn/1465-4644', '/wiki/PubMed_Identifier', '//www.ncbi.nlm.nih.gov/pubmed/19535325', 'https://en.wikipedia.org/w/index.php?title=Data_science&oldid=923200162', '/wiki/Help:Category', '/wiki/Category:Information_science', '/wiki/Category:Computer_occupations', '/wiki/Category:Computational_fields_of_study', '/wiki/Category:Data_analysis', '/wiki/Category:CS1_maint:_extra_text:_authors_list', '/wiki/Category:Webarchive_template_wayback_links', '/wiki/Category:Use_dmy_dates_from_December_2012', '/wiki/Category:All_articles_with_unsourced_statements', '/wiki/Category:Articles_with_unsourced_statements_from_April_2018', '/wiki/Special:MyTalk', '/wiki/Special:MyContributions', '/w/index.php?title=Special:CreateAccount&returnto=Data+science', '/w/index.php?title=Special:UserLogin&returnto=Data+science', '/wiki/Data_science', '/wiki/Talk:Data_science', '/wiki/Data_science', '/w/index.php?title=Data_science&action=edit', '/w/index.php?title=Data_science&action=history', '/wiki/Main_Page', '/wiki/Main_Page', '/wiki/Portal:Contents', '/wiki/Portal:Featured_content', '/wiki/Portal:Current_events', '/wiki/Special:Random', 'https://donate.wikimedia.org/wiki/Special:FundraiserRedirector?utm_source=donate&utm_medium=sidebar&utm_campaign=C13_en.wikipedia.org&uselang=en', '//shop.wikimedia.org', '/wiki/Help:Contents', '/wiki/Wikipedia:About', '/wiki/Wikipedia:Community_portal', '/wiki/Special:RecentChanges', '//en.wikipedia.org/wiki/Wikipedia:Contact_us', '/wiki/Special:WhatLinksHere/Data_science', '/wiki/Special:RecentChangesLinked/Data_science', '/wiki/Wikipedia:File_Upload_Wizard', '/wiki/Special:SpecialPages', '/w/index.php?title=Data_science&oldid=923200162', '/w/index.php?title=Data_science&action=info', 'https://www.wikidata.org/wiki/Special:EntityPage/Q2374463', '/w/index.php?title=Special:CiteThisPage&page=Data_science&id=923200162', 'https://commons.wikimedia.org/wiki/Category:Data_science', '/w/index.php?title=Special:Book&bookcmd=book_creator&referer=Data+science', '/w/index.php?title=Special:ElectronPdf&page=Data+science&action=show-download-screen', '/w/index.php?title=Data_science&printable=yes', 'https://ar.wikipedia.org/wiki/%D8%B9%D9%84%D9%85_%D8%A7%D9%84%D8%A8%D9%8A%D8%A7%D9%86%D8%A7%D8%AA', 'https://az.wikipedia.org/wiki/Veril%C9%99nl%C9%99r_elmi_(Data_Science)', 'https://ca.wikipedia.org/wiki/Ci%C3%A8ncia_de_les_dades', 'https://cs.wikipedia.org/wiki/Data_science', 'https://de.wikipedia.org/wiki/Data_Science', 'https://el.wikipedia.org/wiki/%CE%95%CF%80%CE%B9%CF%83%CF%84%CE%AE%CE%BC%CE%B7_%CE%B4%CE%B5%CE%B4%CE%BF%CE%BC%CE%AD%CE%BD%CF%89%CE%BD', 'https://es.wikipedia.org/wiki/Ciencia_de_datos', 'https://fa.wikipedia.org/wiki/%D8%B9%D9%84%D9%85_%D8%AF%D8%A7%D8%AF%D9%87%E2%80%8C%D9%87%D8%A7', 'https://fr.wikipedia.org/wiki/Science_des_donn%C3%A9es', 'https://ko.wikipedia.org/wiki/%EB%8D%B0%EC%9D%B4%ED%84%B0_%EC%82%AC%EC%9D%B4%EC%96%B8%EC%8A%A4', 'https://hy.wikipedia.org/wiki/%D5%8F%D5%BE%D5%B5%D5%A1%D5%AC%D5%B6%D5%A5%D6%80%D5%AB_%D5%A3%D5%AB%D5%BF%D5%B8%D6%82%D5%A9%D5%B5%D5%B8%D6%82%D5%B6', 'https://hi.wikipedia.org/wiki/%E0%A4%86%E0%A4%81%E0%A4%95%E0%A4%A1%E0%A4%BC%E0%A4%BE_%E0%A4%B5%E0%A4%BF%E0%A4%9C%E0%A5%8D%E0%A4%9E%E0%A4%BE%E0%A4%A8', 'https://id.wikipedia.org/wiki/Ilmu_data', 'https://it.wikipedia.org/wiki/Scienza_dei_dati', 'https://he.wikipedia.org/wiki/%D7%9E%D7%93%D7%A2_%D7%94%D7%A0%D7%AA%D7%95%D7%A0%D7%99%D7%9D', 'https://lv.wikipedia.org/wiki/Datu_m%C4%81c%C4%ABba', 'https://ms.wikipedia.org/wiki/Sains_data', 'https://my.wikipedia.org/wiki/%E1%80%A1%E1%80%81%E1%80%BB%E1%80%80%E1%80%BA%E1%80%A1%E1%80%9C%E1%80%80%E1%80%BA%E1%80%9E%E1%80%AD%E1%80%95%E1%80%B9%E1%80%95%E1%80%B6%E1%80%95%E1%80%8A%E1%80%AC', 'https://nl.wikipedia.org/wiki/Datawetenschap', 'https://ja.wikipedia.org/wiki/%E3%83%87%E3%83%BC%E3%82%BF%E3%82%B5%E3%82%A4%E3%82%A8%E3%83%B3%E3%82%B9', 'https://pt.wikipedia.org/wiki/Ci%C3%AAncia_de_dados', 'https://ru.wikipedia.org/wiki/%D0%9D%D0%B0%D1%83%D0%BA%D0%B0_%D0%BE_%D0%B4%D0%B0%D0%BD%D0%BD%D1%8B%D1%85', 'https://simple.wikipedia.org/wiki/Data_science', 'https://fi.wikipedia.org/wiki/Datatiede', 'https://ta.wikipedia.org/wiki/%E0%AE%A4%E0%AE%B0%E0%AE%B5%E0%AF%81_%E0%AE%85%E0%AE%B1%E0%AE%BF%E0%AE%B5%E0%AE%BF%E0%AE%AF%E0%AE%B2%E0%AF%8D', 'https://uk.wikipedia.org/wiki/%D0%9D%D0%B0%D1%83%D0%BA%D0%B0_%D0%BF%D1%80%D0%BE_%D0%B4%D0%B0%D0%BD%D1%96', 'https://vi.wikipedia.org/wiki/Khoa_h%E1%BB%8Dc_d%E1%BB%AF_li%E1%BB%87u', 'https://zh-yue.wikipedia.org/wiki/%E6%95%B8%E6%93%9A%E7%A7%91%E5%AD%B8', 'https://zh.wikipedia.org/wiki/%E6%95%B0%E6%8D%AE%E7%A7%91%E5%AD%A6', 'https://www.wikidata.org/wiki/Special:EntityPage/Q2374463#sitelinks-wikipedia', '//en.wikipedia.org/wiki/Wikipedia:Text_of_Creative_Commons_Attribution-ShareAlike_3.0_Unported_License', '//creativecommons.org/licenses/by-sa/3.0/', '//foundation.wikimedia.org/wiki/Terms_of_Use', '//foundation.wikimedia.org/wiki/Privacy_policy', '//www.wikimediafoundation.org/', 'https://foundation.wikimedia.org/wiki/Privacy_policy', '/wiki/Wikipedia:About', '/wiki/Wikipedia:General_disclaimer', '//en.wikipedia.org/wiki/Wikipedia:Contact_us', 'https://www.mediawiki.org/wiki/Special:MyLanguage/How_to_contribute', 'https://foundation.wikimedia.org/wiki/Cookie_statement', '//en.m.wikipedia.org/w/index.php?title=Data_science&mobileaction=toggle_view_mobile', 'https://wikimediafoundation.org/', 'https://www.mediawiki.org/']\n"
     ]
    }
   ],
   "source": [
    "soup = BeautifulSoup(html, features=\"html.parser\")\n",
    "links = soup.find_all(\"a\")\n",
    "link = [i.get('href') for i in links]\n",
    "print(link)"
   ]
  },
  {
   "cell_type": "markdown",
   "metadata": {},
   "source": [
    "## Step 3: Use list comprehensions with conditions to clean the link list.\n",
    "\n",
    "There are two types of links, absolute and relative. Absolute links have the full URL and begin with http while relative links begin with a forward slash (/) and point to an internal page within the wikipedia.org domain. Clean the respective types of URLs as follows.\n",
    "\n",
    "- Absolute Links: Create a list of these and remove any that contain a percentage sign (%).\n",
    "- Relativel Links: Create a list of these, add the domain to the link so that you have the full URL, and remove any that contain a percentage sign (%).\n",
    "- Combine the list of absolute and relative links and ensure there are no duplicates."
   ]
  },
  {
   "cell_type": "code",
   "execution_count": null,
   "metadata": {},
   "outputs": [],
   "source": []
  },
  {
   "cell_type": "code",
   "execution_count": 16,
   "metadata": {},
   "outputs": [],
   "source": [
    "domain = 'http://wikipedia.org'\n",
    "link = [i for i in link if i!= None]\n",
    "\n",
    "Absolute_Links = [i for i in link if (i.find('%') == -1) & (i.startswith('http')) ]\n",
    "Relative_Links = [(domain+i) for i in link if (i.find('%') == -1) & (i.startswith('/'))]\n",
    "\n",
    "Clean_Links = set(Absolute_Links+Relative_Links)"
   ]
  },
  {
   "cell_type": "markdown",
   "metadata": {},
   "source": [
    "## Step 4: Use the os library to create a folder called *wikipedia* and make that the current working directory."
   ]
  },
  {
   "cell_type": "code",
   "execution_count": 7,
   "metadata": {},
   "outputs": [],
   "source": [
    "import os"
   ]
  },
  {
   "cell_type": "code",
   "execution_count": 18,
   "metadata": {},
   "outputs": [
    {
     "ename": "FileNotFoundError",
     "evalue": "[WinError 2] El sistema no puede encontrar el archivo especificado: 'wikipedia'",
     "output_type": "error",
     "traceback": [
      "\u001b[1;31m---------------------------------------------------------------------------\u001b[0m",
      "\u001b[1;31mFileNotFoundError\u001b[0m                         Traceback (most recent call last)",
      "\u001b[1;32m<ipython-input-18-81381e849845>\u001b[0m in \u001b[0;36m<module>\u001b[1;34m\u001b[0m\n\u001b[0;32m      1\u001b[0m \u001b[1;31m#os.mkdir(\"wikipedia\")\u001b[0m\u001b[1;33m\u001b[0m\u001b[1;33m\u001b[0m\u001b[0m\n\u001b[1;32m----> 2\u001b[1;33m \u001b[0mos\u001b[0m\u001b[1;33m.\u001b[0m\u001b[0mchdir\u001b[0m\u001b[1;33m(\u001b[0m\u001b[1;34m'wikipedia'\u001b[0m\u001b[1;33m)\u001b[0m\u001b[1;33m\u001b[0m\u001b[0m\n\u001b[0m",
      "\u001b[1;31mFileNotFoundError\u001b[0m: [WinError 2] El sistema no puede encontrar el archivo especificado: 'wikipedia'"
     ]
    }
   ],
   "source": [
    "os.mkdir(\"wikipedia\")\n",
    "os.chdir('wikipedia')"
   ]
  },
  {
   "cell_type": "markdown",
   "metadata": {},
   "source": [
    "## Step 5: Write a function called index_page that accepts a link and does the following.\n",
    "\n",
    "- Tries to request the content of the page referenced by that link.\n",
    "- Slugifies the filename using the `slugify` function from the [python-slugify](https://pypi.org/project/python-slugify/) library and adds a .html file extension.\n",
    "    - If you don't already have the python-slugify library installed, you can pip install it as follows: `$ pip install python-slugify`.\n",
    "    - To import the slugify function, you would do the following: `from slugify import slugify`.\n",
    "    - You can then slugify a link as follows `slugify(link)`.\n",
    "- Creates a file in the wikipedia folder using the slugified filename and writes the contents of the page to the file.\n",
    "- If an exception occurs during the process above, just `pass`."
   ]
  },
  {
   "cell_type": "code",
   "execution_count": 8,
   "metadata": {},
   "outputs": [],
   "source": [
    "from slugify import slugify"
   ]
  },
  {
   "cell_type": "code",
   "execution_count": 13,
   "metadata": {},
   "outputs": [
    {
     "name": "stdout",
     "output_type": "stream",
     "text": [
      "https-cs-wikipedia-org-wiki-data-science\n",
      "https-magazine-amstat-org-blog-2015-10-01-asa-statement-on-the-role-of-statistics-in-data-science\n",
      "http-www-dsaa-co\n",
      "https-nl-wikipedia-org-wiki-datawetenschap\n",
      "https-www-consultancy-uk-news-16839-70-of-big-data-projects-in-uk-fail-to-realise-full-potential\n",
      "https-simple-wikipedia-org-wiki-data-science\n",
      "https-fi-wikipedia-org-wiki-datatiede\n",
      "https-web-archive-org-web-20131029191813-http-www-isical-ac-in-statmath-html-pcm-pcm-recent-html\n",
      "https-de-wikipedia-org-wiki-data-science\n",
      "https-www-mediawiki-org-wiki-special-mylanguage-how-to-contribute\n",
      "http-courses-csail-mit-edu-18-337-2015-docs-50yearsdatascience-pdf\n",
      "http-simplystatistics-org-2013-12-12-the-key-word-in-data-science-is-not-data-it-is-science\n",
      "https-www-forbes-com-sites-gilpress-2013-05-28-a-very-short-history-of-data-science\n",
      "https-www-forbes-com-sites-gilpress-2013-08-19-data-science-whats-the-half-life-of-a-buzzword\n",
      "http-datamining-it-uts-edu-au-conferences-dsaa14\n",
      "http-magazine-amstat-org-blog-2016-06-01-datascience-2\n",
      "http-fortune-com-2015-05-21-data-science-white-hot\n",
      "https-www-nytimes-com-2009-12-15-science-15books-html\n",
      "https-www-wikidata-org-wiki-special-entitypage-q2374463-sitelinks-wikipedia\n",
      "https-commons-wikimedia-org-wiki-category-data-science\n",
      "https-blogs-wsj-com-cio-2014-05-02-why-do-we-need-data-science-when-weve-had-statistics-for-centuries\n",
      "https-en-wikipedia-org-w-index-php-title-template-machine-learning-bar-action-edit\n",
      "https-www-kdnuggets-com-2018-05-data-science-4-reasons-failing-deliver-html\n",
      "http-www-codata-org\n",
      "http-euads-org\n",
      "https-wikimediafoundation-org\n",
      "http-www-jstage-jst-go-jp-browse-dsj-vols\n",
      "http-www-gfkl-org-welcome\n",
      "http-i-stanford-edu-ullman-mmds-ch1n-pdf\n",
      "https-donate-wikimedia-org-wiki-special-fundraiserredirector-utm-source-donate-utm-medium-sidebar-utm-campaign-c13-en-wikipedia-org-uselang-en\n",
      "https-hbr-org-2018-01-are-you-setting-your-data-scientists-up-to-fail\n",
      "https-foundation-wikimedia-org-wiki-cookie-statement\n",
      "https-it-wikipedia-org-wiki-scienza-dei-dati\n",
      "https-pdfs-semanticscholar-org-915c-d8e2b39eb02723553913d592b2237d4d9960-pdf\n",
      "https-www-springer-com-book-9784431702085\n",
      "http-analytics-magazine-org-the-data-economy-why-do-so-many-analytics-projects-fail\n",
      "https-ms-wikipedia-org-wiki-sains-data\n",
      "https-hbr-org-2012-10-data-scientist-the-sexiest-job-of-the-21st-century\n",
      "https-www-bbc-co-uk-programmes-b00wgq0l\n",
      "http-cacm-acm-org-magazines-2013-12-169933-data-science-and-prediction-fulltext\n",
      "https-es-wikipedia-org-wiki-ciencia-de-datos\n",
      "https-foundation-wikimedia-org-wiki-privacy-policy\n",
      "http-www-jds-online-com-v1-1\n",
      "http-www-isical-ac-in-statmath-html-pcm-pcm-recent-html\n",
      "http-www-nsf-gov-pubs-2005-nsb0540\n",
      "https-www-springer-com-41060\n",
      "http-ur-umich-edu-9899-nov09-98-4-htm\n",
      "https-venturebeat-com-2014-04-15-ny-gets-new-bootcamp-for-data-scientists-its-free-but-harder-to-get-into-than-harvard\n",
      "https-web-archive-org-web-20170205101231-http-magazine-amstat-org-blog-2016-06-01-datascience-2\n",
      "https-books-google-com-books-id-ogs-aqaaiaaj\n",
      "https-www-mediawiki-org\n",
      "http-www-statisticsviews-com-details-feature-5133141-nate-silver-what-i-need-from-statisticians-html\n",
      "https-web-archive-org-web-20120403153707-http-www-jstage-jst-go-jp-browse-dsj-vols\n",
      "https-en-wikipedia-org-w-index-php-title-data-science-oldid-923200162\n",
      "https-www-wikidata-org-wiki-special-entitypage-q2374463\n",
      "https-arxiv-org-list-cs-lg-recent\n",
      "http-radar-oreilly-com-2011-05-data-science-terminology-html\n",
      "http-www2-isye-gatech-edu-jeffwu-presentations-datascience-pdf\n",
      "https-web-archive-org-web-20170329172857-http-datamining-it-uts-edu-au-conferences-dsaa14\n",
      "https-www-nytimes-com-2011-04-03-business-03stream-html\n",
      "http-www-jstage-jst-go-jp-browse-dsj-1-0-contents\n",
      "https-id-wikipedia-org-wiki-ilmu-data\n"
     ]
    }
   ],
   "source": [
    "for link in Absolute_Links_Clean:\n",
    "    print(slugify(link))\n",
    "    try:\n",
    "        page = requests.get(link).content\n",
    "        filename = slugify(link).lower() + '.html'\n",
    "        with open(filename, 'wb') as f:\n",
    "                    f.write(page)\n",
    "    except:\n",
    "        pass \n"
   ]
  },
  {
   "cell_type": "markdown",
   "metadata": {},
   "source": [
    "## Step 6: Sequentially loop through the list of links, running the index_page function each time.\n",
    "\n",
    "Remember to include `%%time` at the beginning of the cell so that it measures the time it takes for the cell to run."
   ]
  },
  {
   "cell_type": "code",
   "execution_count": null,
   "metadata": {},
   "outputs": [],
   "source": []
  },
  {
   "cell_type": "markdown",
   "metadata": {},
   "source": [
    "## Step 7: Perform the page indexing in parallel and note the difference in performance.\n",
    "\n",
    "Remember to include `%%time` at the beginning of the cell so that it measures the time it takes for the cell to run."
   ]
  },
  {
   "cell_type": "code",
   "execution_count": null,
   "metadata": {},
   "outputs": [],
   "source": [
    "import multiprocessing"
   ]
  },
  {
   "cell_type": "code",
   "execution_count": null,
   "metadata": {},
   "outputs": [],
   "source": []
  }
 ],
 "metadata": {
  "kernelspec": {
   "display_name": "Python 3",
   "language": "python",
   "name": "python3"
  },
  "language_info": {
   "codemirror_mode": {
    "name": "ipython",
    "version": 3
   },
   "file_extension": ".py",
   "mimetype": "text/x-python",
   "name": "python",
   "nbconvert_exporter": "python",
   "pygments_lexer": "ipython3",
   "version": "3.7.0"
  }
 },
 "nbformat": 4,
 "nbformat_minor": 2
}
